{
 "cells": [
  {
   "cell_type": "code",
   "execution_count": 1,
   "id": "1c25cc17-2f21-42e4-817b-46600b3f0a38",
   "metadata": {},
   "outputs": [
    {
     "name": "stdout",
     "output_type": "stream",
     "text": [
      "Requirement already satisfied: torch in c:\\programdata\\anaconda3\\lib\\site-packages (2.6.0)\n",
      "Requirement already satisfied: filelock in c:\\programdata\\anaconda3\\lib\\site-packages (from torch) (3.13.1)\n",
      "Requirement already satisfied: typing-extensions>=4.10.0 in c:\\programdata\\anaconda3\\lib\\site-packages (from torch) (4.12.2)\n",
      "Requirement already satisfied: networkx in c:\\programdata\\anaconda3\\lib\\site-packages (from torch) (3.3)\n",
      "Requirement already satisfied: jinja2 in c:\\programdata\\anaconda3\\lib\\site-packages (from torch) (3.1.4)\n",
      "Requirement already satisfied: fsspec in c:\\programdata\\anaconda3\\lib\\site-packages (from torch) (2024.6.1)\n",
      "Requirement already satisfied: setuptools in c:\\programdata\\anaconda3\\lib\\site-packages (from torch) (75.1.0)\n",
      "Requirement already satisfied: sympy==1.13.1 in c:\\programdata\\anaconda3\\lib\\site-packages (from torch) (1.13.1)\n",
      "Requirement already satisfied: mpmath<1.4,>=1.1.0 in c:\\programdata\\anaconda3\\lib\\site-packages (from sympy==1.13.1->torch) (1.3.0)\n",
      "Requirement already satisfied: MarkupSafe>=2.0 in c:\\programdata\\anaconda3\\lib\\site-packages (from jinja2->torch) (2.1.3)\n",
      "Note: you may need to restart the kernel to use updated packages.\n",
      "Requirement already satisfied: transformers in c:\\programdata\\anaconda3\\lib\\site-packages (4.51.3)\n",
      "Requirement already satisfied: filelock in c:\\programdata\\anaconda3\\lib\\site-packages (from transformers) (3.13.1)\n",
      "Requirement already satisfied: huggingface-hub<1.0,>=0.30.0 in c:\\programdata\\anaconda3\\lib\\site-packages (from transformers) (0.30.2)\n",
      "Requirement already satisfied: numpy>=1.17 in c:\\programdata\\anaconda3\\lib\\site-packages (from transformers) (1.26.4)\n",
      "Requirement already satisfied: packaging>=20.0 in c:\\programdata\\anaconda3\\lib\\site-packages (from transformers) (24.1)\n",
      "Requirement already satisfied: pyyaml>=5.1 in c:\\programdata\\anaconda3\\lib\\site-packages (from transformers) (6.0.1)\n",
      "Requirement already satisfied: regex!=2019.12.17 in c:\\programdata\\anaconda3\\lib\\site-packages (from transformers) (2024.9.11)\n",
      "Requirement already satisfied: requests in c:\\programdata\\anaconda3\\lib\\site-packages (from transformers) (2.32.3)\n",
      "Requirement already satisfied: tokenizers<0.22,>=0.21 in c:\\programdata\\anaconda3\\lib\\site-packages (from transformers) (0.21.1)\n",
      "Requirement already satisfied: safetensors>=0.4.3 in c:\\programdata\\anaconda3\\lib\\site-packages (from transformers) (0.5.3)\n",
      "Requirement already satisfied: tqdm>=4.27 in c:\\programdata\\anaconda3\\lib\\site-packages (from transformers) (4.66.5)\n",
      "Requirement already satisfied: fsspec>=2023.5.0 in c:\\programdata\\anaconda3\\lib\\site-packages (from huggingface-hub<1.0,>=0.30.0->transformers) (2024.6.1)\n",
      "Requirement already satisfied: typing-extensions>=3.7.4.3 in c:\\programdata\\anaconda3\\lib\\site-packages (from huggingface-hub<1.0,>=0.30.0->transformers) (4.12.2)\n",
      "Requirement already satisfied: colorama in c:\\programdata\\anaconda3\\lib\\site-packages (from tqdm>=4.27->transformers) (0.4.6)\n",
      "Requirement already satisfied: charset-normalizer<4,>=2 in c:\\programdata\\anaconda3\\lib\\site-packages (from requests->transformers) (3.3.2)\n",
      "Requirement already satisfied: idna<4,>=2.5 in c:\\programdata\\anaconda3\\lib\\site-packages (from requests->transformers) (3.7)\n",
      "Requirement already satisfied: urllib3<3,>=1.21.1 in c:\\programdata\\anaconda3\\lib\\site-packages (from requests->transformers) (2.2.3)\n",
      "Requirement already satisfied: certifi>=2017.4.17 in c:\\programdata\\anaconda3\\lib\\site-packages (from requests->transformers) (2025.1.31)\n",
      "Note: you may need to restart the kernel to use updated packages.\n",
      "Requirement already satisfied: hf_xet in c:\\programdata\\anaconda3\\lib\\site-packages (1.0.3)\n",
      "Note: you may need to restart the kernel to use updated packages.\n"
     ]
    }
   ],
   "source": [
    "%pip install torch\n",
    "%pip install transformers\n",
    "%pip install hf_xet"
   ]
  },
  {
   "cell_type": "code",
   "execution_count": null,
   "id": "4b0e7bea-32ca-40d5-b539-1edba3357ddb",
   "metadata": {},
   "outputs": [],
   "source": [
    "from transformers import pipeline"
   ]
  },
  {
   "cell_type": "code",
   "execution_count": null,
   "id": "61e4d7ed-9260-4b44-8180-71da6a12bf86",
   "metadata": {},
   "outputs": [],
   "source": [
    "# 1a. Basic Usage: Sentiment Analysis with the default model\n",
    "sentiment_analyzer = pipeline(\"sentiment-analysis\")\n",
    "print(\"1. Basic Sentiment Analysis:\")\n",
    "result = sentiment_analyzer(\"I did not like this movie\")\n",
    "print(result)\n",
    "result = sentiment_analyzer(\"Je n'ai pas aimé ce film\")\n",
    "print(result)\n",
    "result = sentiment_analyzer(\"Life is beautiful\")\n",
    "print(result)\n",
    "result = sentiment_analyzer(\"La Vie Est Belle\")\n",
    "print(result)"
   ]
  },
  {
   "cell_type": "code",
   "execution_count": null,
   "id": "50f6163b-2f55-49a8-bb63-c97d81736169",
   "metadata": {},
   "outputs": [],
   "source": [
    "specific_model = \"tabularisai/multilingual-sentiment-analysis\""
   ]
  },
  {
   "cell_type": "code",
   "execution_count": null,
   "id": "e50da6ed-6b5c-48bb-a26b-31706c2aa0cc",
   "metadata": {},
   "outputs": [],
   "source": [
    "# 1b. Basic Usage: Sentiment Analysis with a specific model\n",
    "print(\"1. Basic Sentiment Analysis:\")\n",
    "sentiment_analyzer = pipeline(\"sentiment-analysis\", model=specific_model)\n",
    "result = sentiment_analyzer(\"I did not like this movie\")\n",
    "print(result)\n",
    "result = sentiment_analyzer(\"Je n'ai pas aimé ce film\")\n",
    "print(result)\n",
    "result = sentiment_analyzer(\"Life is beautiful\")\n",
    "print(result)\n",
    "result = sentiment_analyzer(\"La Vie Est Belle\")\n",
    "print(result)"
   ]
  },
  {
   "cell_type": "code",
   "execution_count": null,
   "id": "72539a48-108b-4f0c-8832-8bfea118fd34",
   "metadata": {},
   "outputs": [],
   "source": [
    "# 2. Specifying a Model: Text Generation with distilgpt2 (and other parameters)\n",
    "specific_model = \"distilgpt2\"\n",
    "prompt = \"In this course, we will teach you how to\" \n",
    "nrs = 5\n",
    "ml = 20\n",
    "trunc = True\n",
    "text_generator = pipeline(\"text-generation\", specific_model)\n",
    "print(f\"\\n2. Text Generation with a specific model ({specific_model}):\")\n",
    "result = text_generator(prompt, truncation=trunc, max_length=ml, num_return_sequences=nrs)\n",
    "print(result)"
   ]
  },
  {
   "cell_type": "code",
   "execution_count": null,
   "id": "7a1ffe31-653e-4f66-8726-abf417084b19",
   "metadata": {},
   "outputs": [],
   "source": [
    "print\n",
    "for item in result:\n",
    "    print(item['generated_text'])"
   ]
  },
  {
   "cell_type": "code",
   "execution_count": null,
   "id": "b480295e-1d14-4a13-a2e9-b6fdd47e95f0",
   "metadata": {},
   "outputs": [],
   "source": [
    "# 3. Zero-Shot Classification\n",
    "classifier = pipeline(\"zero-shot-classification\")\n",
    "print(\"\\n3. Zero-Shot Classification:\")\n",
    "result = classifier(\n",
    "    \"This is a short course about the Transformers library\",\n",
    "    candidate_labels=[\"education\", \"politics\", \"business\"],\n",
    ")\n",
    "print(result)"
   ]
  },
  {
   "cell_type": "code",
   "execution_count": null,
   "id": "838a3879-e60b-4c48-9043-aac350e50948",
   "metadata": {},
   "outputs": [],
   "source": [
    "sequence = result['sequence']\n",
    "labels = result['labels']\n",
    "scores = result['scores']\n",
    "\n",
    "print(f\"Sequence: {sequence}\")\n",
    "print(\"Labels and Scores:\")\n",
    "for label, score in zip(labels, scores):\n",
    "    print(f\"- {label}: {score:.4f}\")"
   ]
  },
  {
   "cell_type": "code",
   "execution_count": null,
   "id": "340f7c34-2d3e-4a27-9369-4b525459bf1f",
   "metadata": {},
   "outputs": [],
   "source": [
    "# 4. Question Answering from context text\n",
    "question_answerer = pipeline(\"question-answering\")\n",
    "q = \"Where do I live?\"\n",
    "c = \"My name is Mav and I live in Nova Scotia.\"\n",
    "print(\"\\n4. Question Answering:\")\n",
    "result = question_answerer(\n",
    "    question=q,\n",
    "    context=c\n",
    ")\n",
    "print(result)"
   ]
  },
  {
   "cell_type": "code",
   "execution_count": null,
   "id": "f835cc6a-a422-47cc-bbea-76bb286fa8b7",
   "metadata": {},
   "outputs": [],
   "source": [
    "print(f\"The answer to '{q}' is: {result['answer']}\")"
   ]
  },
  {
   "cell_type": "code",
   "execution_count": null,
   "id": "d55fa9e4-e191-4f32-9506-9479c531e8ab",
   "metadata": {},
   "outputs": [],
   "source": [
    "# 5. Text Generation with some parameters (no model)\n",
    "text_generator_params = pipeline(\"text-generation\")\n",
    "print(\"\\n5. Text Generation with parameters:\")\n",
    "result = text_generator_params(\"The quick brown fox\", truncation=True, max_length=100, num_return_sequences=1)\n",
    "print(result)"
   ]
  },
  {
   "cell_type": "code",
   "execution_count": null,
   "id": "325c88cd-bbe7-4181-a866-ee9acdd19f8f",
   "metadata": {},
   "outputs": [],
   "source": [
    "print(result[0]['generated_text'])"
   ]
  },
  {
   "cell_type": "code",
   "execution_count": null,
   "id": "757cecea-2aa9-4cf6-a081-ea3682af5bb9",
   "metadata": {},
   "outputs": [],
   "source": [
    "# 6. Summarization (requires a summarization model)\n",
    "specific_model = \"facebook/bart-large-cnn\"\n",
    "summarizer = pipeline(\"summarization\", model=specific_model)\n",
    "print(\"\\n6. Summarization (requires a summarization model):\")\n",
    "article = \"\"\"\n",
    "The Hugging Face Transformers library has emerged as a cornerstone in the field of Natural Language Processing (NLP), providing an accessible and powerful toolkit for researchers and practitioners alike. This library serves as a central hub for pre-trained language models, offering a vast collection of state-of-the-art models that can be readily deployed for a multitude of tasks across various modalities. Its commitment to open-source principles ensures that these advanced AI capabilities are available to a broad community, fostering collaboration and innovation. Furthermore, the library's support for multiple deep learning frameworks, including PyTorch and TensorFlow, offers users the flexibility to work within their preferred environment.\n",
    "\"\"\"\n",
    "summary = summarizer(article, max_length=130, min_length=30, do_sample=False)\n",
    "print(summary)"
   ]
  },
  {
   "cell_type": "code",
   "execution_count": null,
   "id": "7c33fe7d-1bed-4fca-9d9c-228d817636dc",
   "metadata": {},
   "outputs": [],
   "source": [
    "print(summary[0]['summary_text'])"
   ]
  }
 ],
 "metadata": {
  "kernelspec": {
   "display_name": "Python [conda env:base] *",
   "language": "python",
   "name": "conda-base-py"
  },
  "language_info": {
   "codemirror_mode": {
    "name": "ipython",
    "version": 3
   },
   "file_extension": ".py",
   "mimetype": "text/x-python",
   "name": "python",
   "nbconvert_exporter": "python",
   "pygments_lexer": "ipython3",
   "version": "3.12.3"
  }
 },
 "nbformat": 4,
 "nbformat_minor": 5
}
