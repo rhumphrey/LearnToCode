{
 "cells": [
  {
   "cell_type": "code",
   "execution_count": null,
   "metadata": {},
   "outputs": [],
   "source": [
    "import requests\n",
    "import json"
   ]
  },
  {
   "cell_type": "code",
   "execution_count": null,
   "metadata": {},
   "outputs": [],
   "source": [
    "def get_api_response(text):\n",
    "    url = \"http://localhost:11434/api/chat\"\n",
    "    payload = {\n",
    "        \"model\": \"llama3.2\",\n",
    "        \"messages\": [{\"role\": \"user\", \"content\": text}],\n",
    "        \"stream\": False,\n",
    "    }\n",
    "    headers = {\"Content-Type\": \"application/json\"}\n",
    "    return requests.post(url, data=json.dumps(payload), headers=headers)"
   ]
  },
  {
   "cell_type": "code",
   "execution_count": null,
   "metadata": {},
   "outputs": [],
   "source": [
    "def display_api_content(api_response):\n",
    "    if api_response is not None and api_response.status_code == 200:\n",
    "        print(api_response.json()['message']['content'])\n",
    "    else:\n",
    "        print(f\"Error: {api_response.status_code}, {api_response.text}\")"
   ]
  },
  {
   "cell_type": "code",
   "execution_count": null,
   "metadata": {},
   "outputs": [],
   "source": [
    "user_input = \"Explain Mixture of Experts\"\n",
    "print(\"Doing a Thunk!\\n\\n\")\n",
    "api_response = get_api_response(user_input)\n",
    "display_api_content(api_response)"
   ]
  },
  {
   "cell_type": "code",
   "execution_count": null,
   "metadata": {},
   "outputs": [],
   "source": []
  }
 ],
 "metadata": {
  "kernelspec": {
   "display_name": "Python [conda env:base] *",
   "language": "python",
   "name": "conda-base-py"
  },
  "language_info": {
   "codemirror_mode": {
    "name": "ipython",
    "version": 3
   },
   "file_extension": ".py",
   "mimetype": "text/x-python",
   "name": "python",
   "nbconvert_exporter": "python",
   "pygments_lexer": "ipython3",
   "version": "3.12.3"
  }
 },
 "nbformat": 4,
 "nbformat_minor": 4
}
