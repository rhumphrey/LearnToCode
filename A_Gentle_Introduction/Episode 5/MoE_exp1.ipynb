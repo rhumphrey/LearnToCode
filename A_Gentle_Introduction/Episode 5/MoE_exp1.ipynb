{
 "cells": [
  {
   "cell_type": "code",
   "execution_count": null,
   "id": "8a9fc033-d2d9-4323-9606-44051600c455",
   "metadata": {},
   "outputs": [],
   "source": [
    "from ollama import chat  # Import the 'chat' function from the 'ollama' library"
   ]
  },
  {
   "cell_type": "code",
   "execution_count": null,
   "id": "52084bbb-fa0a-4468-8532-6e77df4107da",
   "metadata": {},
   "outputs": [],
   "source": [
    "# Define the model and input message (non-streaming)\n",
    "response = chat(                                                     # Call the 'chat' function to get a response\n",
    "    model='llama3.2',                                                # Specify the language model to use\n",
    "    messages=[                                                       # Define the conversation messages\n",
    "      {\n",
    "        'role': 'user', \n",
    "        'content': 'What is Mixture of Experts?'\n",
    "      }                                                              # User's message\n",
    "    ],\n",
    "    stream=False                                                     # Disable streaming for the response\n",
    ")\n",
    "\n",
    "# Print the response\n",
    "print(response['message']['content'])                                # Access and print the 'content' of the response message"
   ]
  },
  {
   "cell_type": "code",
   "execution_count": null,
   "id": "77249dbd-fc63-4c3d-b99b-05dcdfb4a0e3",
   "metadata": {},
   "outputs": [],
   "source": [
    "# Define the model and input message (streaming)\n",
    "stream = chat(                                                        # Call the 'chat' function to initiate a conversation, storing the streamed response\n",
    "    model='llama3.2',                                                 # Specify the language model to use\n",
    "    messages=[                                                        # Define the conversation messages\n",
    "      {\n",
    "        'role': 'user', \n",
    "        'content': 'What is Mixture of Experts?'                      \n",
    "      }             \n",
    "    ],\n",
    "    stream=True                                                       # Enable streaming for the response\n",
    ")\n",
    "\n",
    "# Print the response\n",
    "for chunk in stream:                                                  # Iterate through the streamed response chunks\n",
    "    print(chunk['message']['content'], end='', flush=True)            # Print the content of each chunk without a newline, flushing immediately"
   ]
  }
 ],
 "metadata": {
  "kernelspec": {
   "display_name": "Python [conda env:base] *",
   "language": "python",
   "name": "conda-base-py"
  },
  "language_info": {
   "codemirror_mode": {
    "name": "ipython",
    "version": 3
   },
   "file_extension": ".py",
   "mimetype": "text/x-python",
   "name": "python",
   "nbconvert_exporter": "python",
   "pygments_lexer": "ipython3",
   "version": "3.12.3"
  }
 },
 "nbformat": 4,
 "nbformat_minor": 5
}
