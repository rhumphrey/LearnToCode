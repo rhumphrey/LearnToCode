{
 "cells": [
  {
   "cell_type": "code",
   "execution_count": null,
   "id": "ef3bd8c2-5cb1-4a1b-9725-7c9d87f74b10",
   "metadata": {},
   "outputs": [],
   "source": [
    "import requests  # Imports the 'requests' library, used for making HTTP requests.\n",
    "import json      # Imports the 'json' library, used for working with JSON data."
   ]
  },
  {
   "cell_type": "code",
   "execution_count": null,
   "id": "9eca7215-d059-4680-b3fb-d5b421235ea0",
   "metadata": {},
   "outputs": [],
   "source": [
    "# Define the URL of the local instance and the input message (non-streaming)\n",
    "url = \"http://localhost:11434/api/chat\"        # Your actual local API URL\n",
    "payload = {\n",
    "  \"model\": \"llama3.2\",\n",
    "  \"messages\": [\n",
    "    {\n",
    "      \"role\": \"user\",\n",
    "      \"content\": \"Explain Mixture of Experts\"\n",
    "    }\n",
    "  ],\n",
    "  \"stream\": False\n",
    "}\n",
    "\n",
    "# Make the API request\n",
    "headers = {\"Content-Type\": \"application/json\"}\n",
    "response = requests.post(url, data=json.dumps(payload), headers=headers, stream=False)\n",
    "\n",
    "# Check the response and print the content\n",
    "if response.status_code == 200:\n",
    "    result = response.json()\n",
    "    print(result.get('message', {}).get('content', 'No content found'))\n",
    "else:\n",
    "    print(f\"Error: {response.status_code}, {response.text}\")"
   ]
  },
  {
   "cell_type": "code",
   "execution_count": null,
   "id": "81d94006-6e8c-4a92-8176-36efbed8aaf2",
   "metadata": {},
   "outputs": [],
   "source": [
    "# Define the URL of the local instance and the input message (streaming)\n",
    "url = \"http://localhost:11434/api/chat\"\n",
    "payload = {\n",
    "    \"model\": \"llama3.2\",\n",
    "    \"messages\": [\n",
    "      {\n",
    "        \"role\": \"user\", \n",
    "        \"content\": \"Explain Mixture of Experts\"\n",
    "      }\n",
    "    ],\n",
    "    \"stream\": True\n",
    "}\n",
    "\n",
    "# Make the API request with streaming enabled\n",
    "headers = {\"Content-Type\": \"application/json\"}\n",
    "response = requests.post(url, data=json.dumps(payload), headers=headers, stream=True)\n",
    "\n",
    "# Process the streamed response\n",
    "if response.status_code == 200:\n",
    "    for chunk in response.iter_lines(decode_unicode=True):\n",
    "        if chunk:  # Process each streamed line\n",
    "            try:\n",
    "                # Parse JSON data for each chunk\n",
    "                data = json.loads(chunk)\n",
    "                print(data.get('message', {}).get('content', ''), end='', flush=True)\n",
    "            except json.JSONDecodeError as e:\n",
    "                print(f\"JSON decoding error: {e}\")\n",
    "else:\n",
    "    print(f\"Error: {response.status_code}, {response.text}\")"
   ]
  }
 ],
 "metadata": {
  "kernelspec": {
   "display_name": "Python [conda env:base] *",
   "language": "python",
   "name": "conda-base-py"
  },
  "language_info": {
   "codemirror_mode": {
    "name": "ipython",
    "version": 3
   },
   "file_extension": ".py",
   "mimetype": "text/x-python",
   "name": "python",
   "nbconvert_exporter": "python",
   "pygments_lexer": "ipython3",
   "version": "3.12.3"
  }
 },
 "nbformat": 4,
 "nbformat_minor": 5
}
