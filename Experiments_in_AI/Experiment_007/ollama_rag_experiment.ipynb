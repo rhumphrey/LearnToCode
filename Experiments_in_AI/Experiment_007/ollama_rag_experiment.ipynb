{
 "cells": [
  {
   "cell_type": "code",
   "execution_count": null,
   "id": "c750dd5c-7b25-402c-900d-5b93c11891e6",
   "metadata": {},
   "outputs": [],
   "source": [
    "import ollama"
   ]
  },
  {
   "cell_type": "code",
   "execution_count": null,
   "id": "c3bc98e8-da9c-47b1-868e-95e37ab2c753",
   "metadata": {},
   "outputs": [],
   "source": [
    "def pull_model_if_needed(model_name):\n",
    "    \"\"\"Pulls the specified model from Ollama if it doesn't exist.\"\"\"\n",
    "    try:\n",
    "        ollama.pull(model=model_name)\n",
    "        print(f\"Model '{model_name}' pulled successfully/already existed.\")\n",
    "        return True\n",
    "    except Exception as e:\n",
    "        print(f\"Error pulling model '{model_name}': {e}\")\n",
    "        return False"
   ]
  },
  {
   "cell_type": "code",
   "execution_count": null,
   "id": "25761867-af89-4094-9cda-124d255dc65e",
   "metadata": {},
   "outputs": [],
   "source": [
    "def run_prompt(model_name, prompt):\n",
    "    \"\"\"Runs a prompt on a given model and returns the response.\"\"\"\n",
    "    try:\n",
    "        response = ollama.chat(\n",
    "            model=model_name,\n",
    "            messages=[{'role': 'user', 'content': prompt}]\n",
    "        )\n",
    "        return response['message']['content'].strip()\n",
    "    except Exception as e:\n",
    "        print(f\"Error running prompt on model '{model_name}': {e}\")\n",
    "        return None"
   ]
  },
  {
   "cell_type": "code",
   "execution_count": null,
   "id": "066c1759-77ce-40a1-a7a9-88a711a6187c",
   "metadata": {},
   "outputs": [],
   "source": [
    "model_to_test = \"llama3.1\"  # Choose a model\n",
    "print(\"\\nStarting experiment...pulling any models as required...\\n\")\n",
    "try:\n",
    "    pull_model_if_needed(model_to_test)\n",
    "\n",
    "    # --- Experiment Setup ---\n",
    "    wikipedia_text = \"\"\"\n",
    "    'The Halifax Explosion was a disaster that occurred in Halifax, Nova Scotia, Canada, on the morning of 6 December 1917. It began when the French cargo ship SS Mont-Blanc, carrying a large cargo of wartime explosives, collided with the Norwegian vessel SS Imo in the Narrows, the strait connecting the upper Halifax Harbour to Bedford Basin. A fire on board the Mont-Blanc ignited her highly volatile cargo, causing a massive explosion that devastated the Richmond district of Halifax. Approximately 2,000 people were killed, and an estimated 9,000 others were injured. It remains the largest human-made explosion in history before the development of nuclear weapons.\n",
    "    The force of the explosion was immense. Ships were thrown ashore, buildings were demolished, and a powerful tsunami-like wave washed over the city. The blast was heard as far away as Prince Edward Island, over 200 kilometres (120 mi) away. A thick cloud of white smoke rose to a height of over 3,600 metres (11,800 ft).\n",
    "    Relief efforts began almost immediately, with survivors digging out victims from the rubble. Help poured in from across Canada and the United States. Medical personnel and supplies were dispatched to Halifax, and temporary shelters were set up for the thousands left homeless. The disaster had a profound and lasting impact on the city, leading to significant changes in building codes and harbour regulations. The annual Boston Christmas Tree, a tradition that continues to this day, was established as a symbol of gratitude for the aid provided by Boston and the state of Massachusetts in the aftermath of the explosion.'\n",
    "    \"\"\"\n",
    "\n",
    "    questions = [\n",
    "        \"Using only the text provided above, what was the date of the Halifax Explosion?\",\n",
    "        \"Using only the text provided above, what two ships were involved in the collision?\",\n",
    "        \"Using only the text provided above, approximately how many people were killed in the explosion?\",\n",
    "        \"Using only the text provided above, was it the largest explosion in history?\",\n",
    "        \"Using only the text provided above, what city in the United States sent significant aid?\",\n",
    "        \"Using only the text provided above, what was the name of the strait where the collision occurred?\",\n",
    "        \"Using only the text provided above, what type of cargo was the Mont-Blanc carrying?\",\n",
    "        \"Using only the text provided above, what was the height of the smoke cloud?\",\n",
    "        \"Using only the text provided above, what Canadian province is Halifax located in?\",\n",
    "        \"Using only the text provided above, what was the name of the Norwegian vessel?\"\n",
    "    ]\n",
    "\n",
    "    print(f\"--- Running RAG Simulation with model: {model_to_test} ---\")\n",
    "    print(\"\\n--- Provided Context: ---\")\n",
    "    print(wikipedia_text)\n",
    "    print(\"\\n--- Questions and Answers (Using only the provided text): ---\")\n",
    "\n",
    "    for question in questions:\n",
    "        prompt_with_context = f\"{wikipedia_text}\\n\\nUsing only the text provided above, answer the following question: {question}\"\n",
    "        answer_with_context = run_prompt(model_to_test, prompt_with_context)\n",
    "        print(f\"\\nQuestion: {question}\")\n",
    "        print(f\"Answer (with text): {answer_with_context}\")\n",
    "\n",
    "    print(\"\\n--- Comparison (Asking without the text and swaping out 'Using only the text...' preamble with 'For the Halifax Explosion'): ---\")\n",
    "    for question in questions:\n",
    "        prompt_without_context = question.replace(\"Using only the text provided above, \", \"For the Halifax Explosion, \")\n",
    "        answer_without_context = run_prompt(model_to_test, prompt_without_context)\n",
    "        print(f\"\\nQuestion: {prompt_without_context}\")\n",
    "        print(f\"Answer (without text): {answer_without_context}\")\n",
    "\n",
    "    print(\"\\n--- Observation ---\")\n",
    "    print(\"Observe if the model correctly uses only the provided context when instructed.\")\n",
    "    print(\"Note any instances where it might hallucinate or bring in outside knowledge.\")\n",
    "    print(\"Compare the answers with and without the provided context to see the difference in accuracy and reliance on external information.\")\n",
    "\n",
    "except Exception as e:\n",
    "    print(f\"Exiting due to an error: {e}\")"
   ]
  },
  {
   "cell_type": "code",
   "execution_count": null,
   "id": "5623fec6-ad84-4e6f-a218-904915c0d2f9",
   "metadata": {},
   "outputs": [],
   "source": []
  }
 ],
 "metadata": {
  "kernelspec": {
   "display_name": "Python 3 (ipykernel)",
   "language": "python",
   "name": "python3"
  },
  "language_info": {
   "codemirror_mode": {
    "name": "ipython",
    "version": 3
   },
   "file_extension": ".py",
   "mimetype": "text/x-python",
   "name": "python",
   "nbconvert_exporter": "python",
   "pygments_lexer": "ipython3",
   "version": "3.12.7"
  }
 },
 "nbformat": 4,
 "nbformat_minor": 5
}
