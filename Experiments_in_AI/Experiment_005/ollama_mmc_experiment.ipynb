{
 "cells": [
  {
   "cell_type": "code",
   "execution_count": null,
   "id": "aba9185d-4bf7-458d-90fd-0a0f0ec2284f",
   "metadata": {},
   "outputs": [],
   "source": [
    "import ollama\n",
    "import base64\n",
    "import requests\n",
    "from io import BytesIO"
   ]
  },
  {
   "cell_type": "code",
   "execution_count": null,
   "id": "46d2b4fd-e81c-4624-8675-2735949ce935",
   "metadata": {},
   "outputs": [],
   "source": [
    "def pull_model_if_needed(model_name):\n",
    "    \"\"\"Pulls the specified model from Ollama if it doesn't exist.\"\"\"\n",
    "    try:\n",
    "        ollama.pull(model=model_name)\n",
    "        print(f\"Model '{model_name}' pulled successfully/already existed.\")\n",
    "        return True\n",
    "    except Exception as e:\n",
    "        print(f\"Error pulling model '{model_name}': {e}\")\n",
    "        return False"
   ]
  },
  {
   "cell_type": "code",
   "execution_count": null,
   "id": "55bb2913-c12c-4e8c-aa64-863679bc55a8",
   "metadata": {},
   "outputs": [],
   "source": [
    "def encode_image_from_url(image_url):\n",
    "    \"\"\"Encodes an image from a URL to base64, including a User-Agent header.\"\"\"\n",
    "    headers = {'User-Agent': 'NameOfApplication/1.0 (youremail@emaildomain.com)'}  # ***Replace with your own info***\n",
    "    try:\n",
    "        response = requests.get(image_url, headers=headers)\n",
    "        response.raise_for_status()  # Raise an exception for bad status codes\n",
    "        image = BytesIO(response.content)\n",
    "        return base64.b64encode(image.read()).decode('utf-8')\n",
    "    except requests.exceptions.RequestException as e:\n",
    "        print(f\"Error fetching image from URL '{image_url}': {e}\")\n",
    "        return None"
   ]
  },
  {
   "cell_type": "code",
   "execution_count": null,
   "id": "06972859-3137-43aa-83a5-d476e62a199b",
   "metadata": {},
   "outputs": [],
   "source": [
    "def encode_image_from_path(image_path):\n",
    "    \"\"\"Encodes a local image file to base64.\"\"\"\n",
    "    try:\n",
    "        with open(image_path, \"rb\") as image_file:\n",
    "            return base64.b64encode(image_file.read()).decode('utf-8')\n",
    "    except FileNotFoundError:\n",
    "        print(f\"Error: Image file not found at '{image_path}'\")\n",
    "        return None\n",
    "    except Exception as e:\n",
    "        print(f\"Error encoding local image '{image_path}': {e}\")\n",
    "        return None"
   ]
  },
  {
   "cell_type": "code",
   "execution_count": null,
   "id": "89f3bc2a-4552-4bee-93ed-be8e2fe4c370",
   "metadata": {},
   "outputs": [],
   "source": [
    "def query_multimodal_model(model_name, question, images):\n",
    "    \"\"\"Queries a multimodal Ollama model using the 'images' parameter as in the curl example.\"\"\"\n",
    "    try:\n",
    "        response = ollama.generate(\n",
    "            model=model_name,\n",
    "            prompt=question,\n",
    "            images=images  # Pass the list of base64 encoded images here\n",
    "        )\n",
    "        return response['response'].strip()\n",
    "    except Exception as e:\n",
    "        print(f\"Error querying model '{model_name}': {e}\")\n",
    "        return None"
   ]
  },
  {
   "cell_type": "code",
   "execution_count": null,
   "id": "cddf0183-e714-4250-bcf2-8b5240911fe0",
   "metadata": {},
   "outputs": [],
   "source": [
    "print(\"Starting experiment...pulling models as required...\")\n",
    "multimodal_model = \"llava\"  # Or \"llama3.2-vision\" or another multimodal model you have access to on ollama\n",
    "pull_result = pull_model_if_needed(multimodal_model)\n",
    "if pull_result is True:\n",
    "    \n",
    "    # --- Experiment Setup ---\n",
    "    image_sources = [\n",
    "        {\"type\": \"url\", \"path\": \"https://upload.wikimedia.org/wikipedia/commons/4/4a/Yawning_cat_portrait_%288423278464%29.jpg\"},\n",
    "        {\"type\": \"url\", \"path\": \"https://upload.wikimedia.org/wikipedia/commons/3/30/Blausen_0389_EyeAnatomy_02.png\"},\n",
    "        {\"type\": \"local\", \"path\": r\"test1.jpg\"},  # Replace with your actual local image path\n",
    "        {\"type\": \"local\", \"path\": r\"test2.jpg\"},  # Replace with your actual local image with text\n",
    "        {\"type\": \"url\", \"path\": \"https://upload.wikimedia.org/wikipedia/commons/0/05/William_Frederick_Yeames_-_And_when_did_you_last_see_your_father%3F_-_Google_Art_Project.jpg\"}, # Complex image\n",
    "        {\"type\": \"url\", \"path\": \"https://upload.wikimedia.org/wikipedia/commons/0/0f/Piet_Mondriaan%2C_1939-1942_-_Composition_10.jpg\"} # Abstract image\n",
    "    ]\n",
    "\n",
    "    questions = [\n",
    "        \"Describe this image.\",\n",
    "        \"What objects are in this picture?\",\n",
    "        \"Is there text in this image? If so, what does it say?\",\n",
    "        \"What is the main subject of this image?\",\n",
    "        \"What colors are prominent in this image?\"\n",
    "    ]\n",
    "\n",
    "    # --- Run the Experiment ---\n",
    "    print(f\"\\n--- Exploring Multimodal Capabilities of {multimodal_model} ---\")\n",
    "\n",
    "    for image_info in image_sources:\n",
    "        print(f\"\\n--- Processing Image: {image_info['path']} ---\")\n",
    "        encoded_image = None\n",
    "        if image_info[\"type\"] == \"url\":\n",
    "            encoded_image = encode_image_from_url(image_info[\"path\"])\n",
    "        elif image_info[\"type\"] == \"local\":\n",
    "            encoded_image = encode_image_from_path(image_info[\"path\"])\n",
    "\n",
    "        if encoded_image:\n",
    "            for question in questions:\n",
    "                response = query_multimodal_model(multimodal_model, question, [encoded_image])\n",
    "                if response:\n",
    "                    print(f\"Question: {question}\")\n",
    "                    print(f\"Answer: {response}\\n\")\n",
    "        else:\n",
    "            print(\"Skipping this image due to encoding failure.\\n\")\n",
    "\n",
    "    print(\"\\n--- Experiment Finished ---\")\n",
    "    print(\"Observe the accuracy of the descriptions, object identification, and text reading capabilities.\")\n",
    "    print(\"Consider how the model handles different types of images (simple, diagrams, local, with text, complex, abstract).\")\n",
    "else:\n",
    "    print(\"Exiting due to model pulling failure.\")"
   ]
  },
  {
   "cell_type": "code",
   "execution_count": null,
   "id": "83460c26-8a32-4dca-a24b-6315102ce21b",
   "metadata": {},
   "outputs": [],
   "source": []
  }
 ],
 "metadata": {
  "kernelspec": {
   "display_name": "Python 3 (ipykernel)",
   "language": "python",
   "name": "python3"
  },
  "language_info": {
   "codemirror_mode": {
    "name": "ipython",
    "version": 3
   },
   "file_extension": ".py",
   "mimetype": "text/x-python",
   "name": "python",
   "nbconvert_exporter": "python",
   "pygments_lexer": "ipython3",
   "version": "3.12.7"
  }
 },
 "nbformat": 4,
 "nbformat_minor": 5
}
